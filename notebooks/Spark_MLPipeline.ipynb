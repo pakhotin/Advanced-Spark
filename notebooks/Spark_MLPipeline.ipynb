{
 "cells": [
  {
   "cell_type": "markdown",
   "metadata": {},
   "source": [
    "# An Introduction to Machine Learning with Spark"
   ]
  },
  {
   "cell_type": "markdown",
   "metadata": {},
   "source": [
    "Spark allows to create a full ML pipeline from ingesting data through building model to evaluating model output.\n",
    "\n",
    "`spark.mllib` vs `spark.ml`:\n",
    " * `spark.mllib` is the old library that works with RDD (expected to be removed in Spark 3.0)\n",
    " * `spark.ml` is the new API build around spark dataframe\n",
    "\n",
    "**Resources:**\n",
    " * [ML Pipelines on Apache Spark Website](https://spark.apache.org/docs/latest/ml-pipeline.html)\n",
    " * [Spark Pipelines: Elegant Yet Powerful](https://blog.insightdatascience.com/spark-pipelines-elegant-yet-powerful-7be93afcdd42)\n",
    " * [Beginner’s Guide to Create End-to-End Machine Learning Pipeline in PySpark](https://towardsdatascience.com/beginners-guide-to-create-first-end-to-end-machine-learning-pipeline-in-pyspark-d3df25a08dfd)"
   ]
  },
  {
   "cell_type": "markdown",
   "metadata": {},
   "source": [
    "## Import Libraries and Create Spark Session"
   ]
  },
  {
   "cell_type": "code",
   "execution_count": 1,
   "metadata": {},
   "outputs": [],
   "source": [
    "from os.path import abspath\n",
    "from pyspark.sql import SparkSession, HiveContext\n",
    "from pyspark.ml import Pipeline\n",
    "from pyspark.ml.feature import StringIndexer, OneHotEncoder, VectorAssembler\n",
    "from pyspark.ml.classification import LogisticRegression\n",
    "import pyspark.ml.evaluation as evals\n",
    "import pyspark.ml.tuning as tune\n",
    "import numpy as np"
   ]
  },
  {
   "cell_type": "code",
   "execution_count": 2,
   "metadata": {},
   "outputs": [],
   "source": [
    "warehouse_location = abspath('../data/spark-warehouse')\n",
    "spark = SparkSession \\\n",
    "         .builder \\\n",
    "         .config(\"spark.sql.warehouse.dir\", warehouse_location) \\\n",
    "         .config('spark.driver.extraJavaOptions','-Dderby.system.home=../data/tmp') \\\n",
    "         .enableHiveSupport() \\\n",
    "         .getOrCreate()"
   ]
  },
  {
   "cell_type": "markdown",
   "metadata": {},
   "source": [
    "## Transformers and Estimators"
   ]
  },
  {
   "cell_type": "markdown",
   "metadata": {},
   "source": [
    "There are 2 main basic classes `Transformer` and `Estimator` in the `pyspark.ml` module.\n",
    " * Method `transform()` from `Transformer` class takes Spark data frame and returns a new data frame with a new *transformed* column.\n",
    " * Method `fit()` from `Estimator` class takes Spark data frame but returns a model object."
   ]
  },
  {
   "cell_type": "markdown",
   "metadata": {},
   "source": [
    "## Data Types for Modeling"
   ]
  },
  {
   "cell_type": "markdown",
   "metadata": {},
   "source": [
    "Modeling in Spark could be performed over numerical data only, therefore columns of data frames used for modeling must be **integers** or **doubles**.\n",
    "\n",
    "When data is imported to Spark it usually correctly recognize type of data, but if not then we can use method `cast()` to convert types to numeric. The method `cast()` accepts one string argument which could be `\"integer\"` or `\"double\"`."
   ]
  },
  {
   "cell_type": "markdown",
   "metadata": {},
   "source": [
    "### Casting `string` to Numeric"
   ]
  },
  {
   "cell_type": "markdown",
   "metadata": {},
   "source": [
    "Let's read in *Iris* data and **not** use `inferSchema =True` so it reads all columns as strings:"
   ]
  },
  {
   "cell_type": "code",
   "execution_count": 3,
   "metadata": {},
   "outputs": [],
   "source": [
    "df_iris = spark.read.csv(\"../data/raw/iris.csv\", header=True)"
   ]
  },
  {
   "cell_type": "code",
   "execution_count": 4,
   "metadata": {},
   "outputs": [
    {
     "data": {
      "text/plain": [
       "DataFrame[sepal_length_cm: string, sepal_width_cm: string, petal_length_cm: string, petal_width_cm: string, class_iris: string]"
      ]
     },
     "execution_count": 4,
     "metadata": {},
     "output_type": "execute_result"
    }
   ],
   "source": [
    "df_iris"
   ]
  },
  {
   "cell_type": "code",
   "execution_count": 5,
   "metadata": {},
   "outputs": [
    {
     "name": "stdout",
     "output_type": "stream",
     "text": [
      "+---------------+--------------+---------------+--------------+-----------+\n",
      "|sepal_length_cm|sepal_width_cm|petal_length_cm|petal_width_cm| class_iris|\n",
      "+---------------+--------------+---------------+--------------+-----------+\n",
      "|            5.1|           3.5|            1.4|           0.2|Iris-setosa|\n",
      "|            4.9|           3.0|            1.4|           0.2|Iris-setosa|\n",
      "|            4.7|           3.2|            1.3|           0.2|Iris-setosa|\n",
      "|            4.6|           3.1|            1.5|           0.2|Iris-setosa|\n",
      "|            5.0|           3.6|            1.4|           0.2|Iris-setosa|\n",
      "+---------------+--------------+---------------+--------------+-----------+\n",
      "only showing top 5 rows\n",
      "\n"
     ]
    }
   ],
   "source": [
    "df_iris.show(5)"
   ]
  },
  {
   "cell_type": "markdown",
   "metadata": {},
   "source": [
    "Now, we have data frame `df_iris` with first 4 columns having numeric data stored as strings. Let's use `cast()` and `withColumn()` methods to re-create column `\"sepal_length_cm\"` with `double` type instead of `string`:"
   ]
  },
  {
   "cell_type": "code",
   "execution_count": 6,
   "metadata": {},
   "outputs": [],
   "source": [
    "df_iris = df_iris.withColumn(\"sepal_length_cm\", df_iris.sepal_length_cm.cast(\"double\"))"
   ]
  },
  {
   "cell_type": "markdown",
   "metadata": {},
   "source": [
    "Let's look again in the content of the data frame and note that type of first column `sepal_length_cm` is `double` now:"
   ]
  },
  {
   "cell_type": "code",
   "execution_count": 7,
   "metadata": {},
   "outputs": [
    {
     "data": {
      "text/plain": [
       "DataFrame[sepal_length_cm: double, sepal_width_cm: string, petal_length_cm: string, petal_width_cm: string, class_iris: string]"
      ]
     },
     "execution_count": 7,
     "metadata": {},
     "output_type": "execute_result"
    }
   ],
   "source": [
    "df_iris"
   ]
  },
  {
   "cell_type": "code",
   "execution_count": 8,
   "metadata": {},
   "outputs": [
    {
     "name": "stdout",
     "output_type": "stream",
     "text": [
      "+---------------+--------------+---------------+--------------+-----------+\n",
      "|sepal_length_cm|sepal_width_cm|petal_length_cm|petal_width_cm| class_iris|\n",
      "+---------------+--------------+---------------+--------------+-----------+\n",
      "|            5.1|           3.5|            1.4|           0.2|Iris-setosa|\n",
      "|            4.9|           3.0|            1.4|           0.2|Iris-setosa|\n",
      "|            4.7|           3.2|            1.3|           0.2|Iris-setosa|\n",
      "|            4.6|           3.1|            1.5|           0.2|Iris-setosa|\n",
      "|            5.0|           3.6|            1.4|           0.2|Iris-setosa|\n",
      "+---------------+--------------+---------------+--------------+-----------+\n",
      "only showing top 5 rows\n",
      "\n"
     ]
    }
   ],
   "source": [
    "df_iris.show(5)"
   ]
  },
  {
   "cell_type": "markdown",
   "metadata": {},
   "source": [
    "### Casting Boolean to Numeric"
   ]
  },
  {
   "cell_type": "markdown",
   "metadata": {},
   "source": [
    "If a column is boolean, it should be also converted to numeric type `integer`. For example, let's add a boolean column `sepal_length_big` to data frame:"
   ]
  },
  {
   "cell_type": "code",
   "execution_count": 9,
   "metadata": {},
   "outputs": [],
   "source": [
    "df_iris = df_iris.withColumn(\"sepal_length_big\", df_iris.sepal_length_cm > 6.0)"
   ]
  },
  {
   "cell_type": "code",
   "execution_count": 10,
   "metadata": {},
   "outputs": [
    {
     "data": {
      "text/plain": [
       "DataFrame[sepal_length_cm: double, sepal_width_cm: string, petal_length_cm: string, petal_width_cm: string, class_iris: string, sepal_length_big: boolean]"
      ]
     },
     "execution_count": 10,
     "metadata": {},
     "output_type": "execute_result"
    }
   ],
   "source": [
    "df_iris"
   ]
  },
  {
   "cell_type": "code",
   "execution_count": 11,
   "metadata": {},
   "outputs": [
    {
     "name": "stdout",
     "output_type": "stream",
     "text": [
      "+---------------+--------------+---------------+--------------+-----------+----------------+\n",
      "|sepal_length_cm|sepal_width_cm|petal_length_cm|petal_width_cm| class_iris|sepal_length_big|\n",
      "+---------------+--------------+---------------+--------------+-----------+----------------+\n",
      "|            5.1|           3.5|            1.4|           0.2|Iris-setosa|           false|\n",
      "|            4.9|           3.0|            1.4|           0.2|Iris-setosa|           false|\n",
      "|            4.7|           3.2|            1.3|           0.2|Iris-setosa|           false|\n",
      "|            4.6|           3.1|            1.5|           0.2|Iris-setosa|           false|\n",
      "|            5.0|           3.6|            1.4|           0.2|Iris-setosa|           false|\n",
      "+---------------+--------------+---------------+--------------+-----------+----------------+\n",
      "only showing top 5 rows\n",
      "\n"
     ]
    }
   ],
   "source": [
    "df_iris.show(5)"
   ]
  },
  {
   "cell_type": "markdown",
   "metadata": {},
   "source": [
    "Convert boolean column to integer and rename it as `label` - **this is the default name for the response variable in Spark's machine learning**."
   ]
  },
  {
   "cell_type": "code",
   "execution_count": 12,
   "metadata": {},
   "outputs": [],
   "source": [
    "df_iris = df_iris.withColumn(\"label\", df_iris.sepal_length_big.cast(\"integer\"))"
   ]
  },
  {
   "cell_type": "code",
   "execution_count": 14,
   "metadata": {},
   "outputs": [
    {
     "name": "stdout",
     "output_type": "stream",
     "text": [
      "+---------------+--------------+---------------+--------------+-----------+----------------+-----+\n",
      "|sepal_length_cm|sepal_width_cm|petal_length_cm|petal_width_cm| class_iris|sepal_length_big|label|\n",
      "+---------------+--------------+---------------+--------------+-----------+----------------+-----+\n",
      "|            5.1|           3.5|            1.4|           0.2|Iris-setosa|           false|    0|\n",
      "|            4.9|           3.0|            1.4|           0.2|Iris-setosa|           false|    0|\n",
      "|            4.7|           3.2|            1.3|           0.2|Iris-setosa|           false|    0|\n",
      "|            4.6|           3.1|            1.5|           0.2|Iris-setosa|           false|    0|\n",
      "|            5.0|           3.6|            1.4|           0.2|Iris-setosa|           false|    0|\n",
      "+---------------+--------------+---------------+--------------+-----------+----------------+-----+\n",
      "only showing top 5 rows\n",
      "\n"
     ]
    }
   ],
   "source": [
    "df_iris.show(5)"
   ]
  },
  {
   "cell_type": "markdown",
   "metadata": {},
   "source": [
    "### One-Hot Vectors"
   ]
  },
  {
   "cell_type": "markdown",
   "metadata": {},
   "source": [
    "If a column can not be easily coverted to numeric values, then it is usually converted to set of *one-hot vectors* where one vector represents one level of the feature. For example, column `class_iris` has three classes or levels, so we can create 3 vectors (i.e. 3 new columns) each of which has `1` only for one class. This is done in 4 steps:\n",
    " * use `StringIndexer` to map uniqe column class to a number (for example, in the *Iris* data it labels `Iris-setosa` as `0`, `Iris-versicolor` as `1` and `Iris-virginica` as `2`).\n",
    " * use `OneHotEncoder` to convert column from previous step to 2 columns with `1` only for one initial column class in each of them. Note, that 2 columns is enough to lable 3 classes, since (1,0) represents 1st class, (0,1) respresents 2nd class and (0,0) represents 3rd class.\n",
    " * use `VectorAssembler` to combine all columns required for model in one data frame.\n",
    " * use `Pipeline` to run all `Estimators` and `Transformers` which are defined in input list."
   ]
  },
  {
   "cell_type": "markdown",
   "metadata": {},
   "source": [
    "Define object `iris_class_indexer` of `StringIndexer` class which creates column of indexes for different *Iris* types:"
   ]
  },
  {
   "cell_type": "code",
   "execution_count": 15,
   "metadata": {},
   "outputs": [],
   "source": [
    "iris_class_indexer = StringIndexer(inputCol=\"class_iris\", outputCol=\"class_iris_index\")"
   ]
  },
  {
   "cell_type": "markdown",
   "metadata": {},
   "source": [
    "Define object `iris_class_onehotencoder` of `OneHotEncoder` class which creates column of tuples that labels different types of *Iris*:"
   ]
  },
  {
   "cell_type": "code",
   "execution_count": 16,
   "metadata": {},
   "outputs": [],
   "source": [
    "iris_class_onehotencoder = OneHotEncoder(inputCol=\"class_iris_index\", outputCol=\"class_iris_onehot\")"
   ]
  },
  {
   "cell_type": "markdown",
   "metadata": {},
   "source": [
    "Note, `OneHotEncoder` is deprecated since Spark 2.3.0 and will be removed in 3.0.0. Use `OneHotEncoderEstimator` instead."
   ]
  },
  {
   "cell_type": "markdown",
   "metadata": {},
   "source": [
    "Define object `iris_vec_assembler` of `VectorAssembler` class which creates a column with a list of features for modleing in each row and rename it as `features` - **this is the default name for the input features in Spark's machine learning**."
   ]
  },
  {
   "cell_type": "code",
   "execution_count": 17,
   "metadata": {},
   "outputs": [],
   "source": [
    "iris_vec_assembler = VectorAssembler(inputCols=[\"sepal_length_cm\",\"class_iris_onehot\"], outputCol=\"features\")"
   ]
  },
  {
   "cell_type": "markdown",
   "metadata": {},
   "source": [
    "Define object `iris_pipe` of `Pipeline` class to combine all steps together. Input is list of objects in consecutive orders of transformation:"
   ]
  },
  {
   "cell_type": "code",
   "execution_count": 18,
   "metadata": {},
   "outputs": [],
   "source": [
    "iris_pipe = Pipeline(stages=[iris_class_indexer, iris_class_onehotencoder, iris_vec_assembler])"
   ]
  },
  {
   "cell_type": "markdown",
   "metadata": {},
   "source": [
    "This is where we finally pass data through the pipeline `iris_pipe`. Note, that we have to call 2 methods `fit()` and `transform()` with initail data frame `df_iris` as input:"
   ]
  },
  {
   "cell_type": "code",
   "execution_count": 19,
   "metadata": {},
   "outputs": [],
   "source": [
    "iris_piped_data = iris_pipe.fit(df_iris).transform(df_iris)"
   ]
  },
  {
   "cell_type": "markdown",
   "metadata": {},
   "source": [
    "Let's examine the data after transformation printing all records:"
   ]
  },
  {
   "cell_type": "code",
   "execution_count": 20,
   "metadata": {},
   "outputs": [
    {
     "name": "stdout",
     "output_type": "stream",
     "text": [
      "+---------------+--------------+---------------+--------------+---------------+----------------+-----+----------------+-----------------+-------------+\n",
      "|sepal_length_cm|sepal_width_cm|petal_length_cm|petal_width_cm|     class_iris|sepal_length_big|label|class_iris_index|class_iris_onehot|     features|\n",
      "+---------------+--------------+---------------+--------------+---------------+----------------+-----+----------------+-----------------+-------------+\n",
      "|            5.1|           3.5|            1.4|           0.2|    Iris-setosa|           false|    0|             0.0|    (2,[0],[1.0])|[5.1,1.0,0.0]|\n",
      "|            4.9|           3.0|            1.4|           0.2|    Iris-setosa|           false|    0|             0.0|    (2,[0],[1.0])|[4.9,1.0,0.0]|\n",
      "|            4.7|           3.2|            1.3|           0.2|    Iris-setosa|           false|    0|             0.0|    (2,[0],[1.0])|[4.7,1.0,0.0]|\n",
      "|            4.6|           3.1|            1.5|           0.2|    Iris-setosa|           false|    0|             0.0|    (2,[0],[1.0])|[4.6,1.0,0.0]|\n",
      "|            5.0|           3.6|            1.4|           0.2|    Iris-setosa|           false|    0|             0.0|    (2,[0],[1.0])|[5.0,1.0,0.0]|\n",
      "|            5.4|           3.9|            1.7|           0.4|    Iris-setosa|           false|    0|             0.0|    (2,[0],[1.0])|[5.4,1.0,0.0]|\n",
      "|            4.6|           3.4|            1.4|           0.3|    Iris-setosa|           false|    0|             0.0|    (2,[0],[1.0])|[4.6,1.0,0.0]|\n",
      "|            5.0|           3.4|            1.5|           0.2|    Iris-setosa|           false|    0|             0.0|    (2,[0],[1.0])|[5.0,1.0,0.0]|\n",
      "|            4.4|           2.9|            1.4|           0.2|    Iris-setosa|           false|    0|             0.0|    (2,[0],[1.0])|[4.4,1.0,0.0]|\n",
      "|            4.9|           3.1|            1.5|           0.1|    Iris-setosa|           false|    0|             0.0|    (2,[0],[1.0])|[4.9,1.0,0.0]|\n",
      "|            5.4|           3.7|            1.5|           0.2|    Iris-setosa|           false|    0|             0.0|    (2,[0],[1.0])|[5.4,1.0,0.0]|\n",
      "|            4.8|           3.4|            1.6|           0.2|    Iris-setosa|           false|    0|             0.0|    (2,[0],[1.0])|[4.8,1.0,0.0]|\n",
      "|            4.8|           3.0|            1.4|           0.1|    Iris-setosa|           false|    0|             0.0|    (2,[0],[1.0])|[4.8,1.0,0.0]|\n",
      "|            4.3|           3.0|            1.1|           0.1|    Iris-setosa|           false|    0|             0.0|    (2,[0],[1.0])|[4.3,1.0,0.0]|\n",
      "|            5.8|           4.0|            1.2|           0.2|    Iris-setosa|           false|    0|             0.0|    (2,[0],[1.0])|[5.8,1.0,0.0]|\n",
      "|            5.7|           4.4|            1.5|           0.4|    Iris-setosa|           false|    0|             0.0|    (2,[0],[1.0])|[5.7,1.0,0.0]|\n",
      "|            5.4|           3.9|            1.3|           0.4|    Iris-setosa|           false|    0|             0.0|    (2,[0],[1.0])|[5.4,1.0,0.0]|\n",
      "|            5.1|           3.5|            1.4|           0.3|    Iris-setosa|           false|    0|             0.0|    (2,[0],[1.0])|[5.1,1.0,0.0]|\n",
      "|            5.7|           3.8|            1.7|           0.3|    Iris-setosa|           false|    0|             0.0|    (2,[0],[1.0])|[5.7,1.0,0.0]|\n",
      "|            5.1|           3.8|            1.5|           0.3|    Iris-setosa|           false|    0|             0.0|    (2,[0],[1.0])|[5.1,1.0,0.0]|\n",
      "|            5.4|           3.4|            1.7|           0.2|    Iris-setosa|           false|    0|             0.0|    (2,[0],[1.0])|[5.4,1.0,0.0]|\n",
      "|            5.1|           3.7|            1.5|           0.4|    Iris-setosa|           false|    0|             0.0|    (2,[0],[1.0])|[5.1,1.0,0.0]|\n",
      "|            4.6|           3.6|            1.0|           0.2|    Iris-setosa|           false|    0|             0.0|    (2,[0],[1.0])|[4.6,1.0,0.0]|\n",
      "|            5.1|           3.3|            1.7|           0.5|    Iris-setosa|           false|    0|             0.0|    (2,[0],[1.0])|[5.1,1.0,0.0]|\n",
      "|            4.8|           3.4|            1.9|           0.2|    Iris-setosa|           false|    0|             0.0|    (2,[0],[1.0])|[4.8,1.0,0.0]|\n",
      "|            5.0|           3.0|            1.6|           0.2|    Iris-setosa|           false|    0|             0.0|    (2,[0],[1.0])|[5.0,1.0,0.0]|\n",
      "|            5.0|           3.4|            1.6|           0.4|    Iris-setosa|           false|    0|             0.0|    (2,[0],[1.0])|[5.0,1.0,0.0]|\n",
      "|            5.2|           3.5|            1.5|           0.2|    Iris-setosa|           false|    0|             0.0|    (2,[0],[1.0])|[5.2,1.0,0.0]|\n",
      "|            5.2|           3.4|            1.4|           0.2|    Iris-setosa|           false|    0|             0.0|    (2,[0],[1.0])|[5.2,1.0,0.0]|\n",
      "|            4.7|           3.2|            1.6|           0.2|    Iris-setosa|           false|    0|             0.0|    (2,[0],[1.0])|[4.7,1.0,0.0]|\n",
      "|            4.8|           3.1|            1.6|           0.2|    Iris-setosa|           false|    0|             0.0|    (2,[0],[1.0])|[4.8,1.0,0.0]|\n",
      "|            5.4|           3.4|            1.5|           0.4|    Iris-setosa|           false|    0|             0.0|    (2,[0],[1.0])|[5.4,1.0,0.0]|\n",
      "|            5.2|           4.1|            1.5|           0.1|    Iris-setosa|           false|    0|             0.0|    (2,[0],[1.0])|[5.2,1.0,0.0]|\n",
      "|            5.5|           4.2|            1.4|           0.2|    Iris-setosa|           false|    0|             0.0|    (2,[0],[1.0])|[5.5,1.0,0.0]|\n",
      "|            4.9|           3.1|            1.5|           0.1|    Iris-setosa|           false|    0|             0.0|    (2,[0],[1.0])|[4.9,1.0,0.0]|\n",
      "|            5.0|           3.2|            1.2|           0.2|    Iris-setosa|           false|    0|             0.0|    (2,[0],[1.0])|[5.0,1.0,0.0]|\n",
      "|            5.5|           3.5|            1.3|           0.2|    Iris-setosa|           false|    0|             0.0|    (2,[0],[1.0])|[5.5,1.0,0.0]|\n",
      "|            4.9|           3.1|            1.5|           0.1|    Iris-setosa|           false|    0|             0.0|    (2,[0],[1.0])|[4.9,1.0,0.0]|\n",
      "|            4.4|           3.0|            1.3|           0.2|    Iris-setosa|           false|    0|             0.0|    (2,[0],[1.0])|[4.4,1.0,0.0]|\n",
      "|            5.1|           3.4|            1.5|           0.2|    Iris-setosa|           false|    0|             0.0|    (2,[0],[1.0])|[5.1,1.0,0.0]|\n",
      "|            5.0|           3.5|            1.3|           0.3|    Iris-setosa|           false|    0|             0.0|    (2,[0],[1.0])|[5.0,1.0,0.0]|\n",
      "|            4.5|           2.3|            1.3|           0.3|    Iris-setosa|           false|    0|             0.0|    (2,[0],[1.0])|[4.5,1.0,0.0]|\n",
      "|            4.4|           3.2|            1.3|           0.2|    Iris-setosa|           false|    0|             0.0|    (2,[0],[1.0])|[4.4,1.0,0.0]|\n",
      "|            5.0|           3.5|            1.6|           0.6|    Iris-setosa|           false|    0|             0.0|    (2,[0],[1.0])|[5.0,1.0,0.0]|\n",
      "|            5.1|           3.8|            1.9|           0.4|    Iris-setosa|           false|    0|             0.0|    (2,[0],[1.0])|[5.1,1.0,0.0]|\n",
      "|            4.8|           3.0|            1.4|           0.3|    Iris-setosa|           false|    0|             0.0|    (2,[0],[1.0])|[4.8,1.0,0.0]|\n",
      "|            5.1|           3.8|            1.6|           0.2|    Iris-setosa|           false|    0|             0.0|    (2,[0],[1.0])|[5.1,1.0,0.0]|\n",
      "|            4.6|           3.2|            1.4|           0.2|    Iris-setosa|           false|    0|             0.0|    (2,[0],[1.0])|[4.6,1.0,0.0]|\n",
      "|            5.3|           3.7|            1.5|           0.2|    Iris-setosa|           false|    0|             0.0|    (2,[0],[1.0])|[5.3,1.0,0.0]|\n",
      "|            5.0|           3.3|            1.4|           0.2|    Iris-setosa|           false|    0|             0.0|    (2,[0],[1.0])|[5.0,1.0,0.0]|\n",
      "|            7.0|           3.2|            4.7|           1.4|Iris-versicolor|            true|    1|             1.0|    (2,[1],[1.0])|[7.0,0.0,1.0]|\n",
      "|            6.4|           3.2|            4.5|           1.5|Iris-versicolor|            true|    1|             1.0|    (2,[1],[1.0])|[6.4,0.0,1.0]|\n",
      "|            6.9|           3.1|            4.9|           1.5|Iris-versicolor|            true|    1|             1.0|    (2,[1],[1.0])|[6.9,0.0,1.0]|\n",
      "|            5.5|           2.3|            4.0|           1.3|Iris-versicolor|           false|    0|             1.0|    (2,[1],[1.0])|[5.5,0.0,1.0]|\n",
      "|            6.5|           2.8|            4.6|           1.5|Iris-versicolor|            true|    1|             1.0|    (2,[1],[1.0])|[6.5,0.0,1.0]|\n",
      "|            5.7|           2.8|            4.5|           1.3|Iris-versicolor|           false|    0|             1.0|    (2,[1],[1.0])|[5.7,0.0,1.0]|\n",
      "|            6.3|           3.3|            4.7|           1.6|Iris-versicolor|            true|    1|             1.0|    (2,[1],[1.0])|[6.3,0.0,1.0]|\n",
      "|            4.9|           2.4|            3.3|           1.0|Iris-versicolor|           false|    0|             1.0|    (2,[1],[1.0])|[4.9,0.0,1.0]|\n",
      "|            6.6|           2.9|            4.6|           1.3|Iris-versicolor|            true|    1|             1.0|    (2,[1],[1.0])|[6.6,0.0,1.0]|\n",
      "|            5.2|           2.7|            3.9|           1.4|Iris-versicolor|           false|    0|             1.0|    (2,[1],[1.0])|[5.2,0.0,1.0]|\n",
      "|            5.0|           2.0|            3.5|           1.0|Iris-versicolor|           false|    0|             1.0|    (2,[1],[1.0])|[5.0,0.0,1.0]|\n",
      "|            5.9|           3.0|            4.2|           1.5|Iris-versicolor|           false|    0|             1.0|    (2,[1],[1.0])|[5.9,0.0,1.0]|\n",
      "|            6.0|           2.2|            4.0|           1.0|Iris-versicolor|           false|    0|             1.0|    (2,[1],[1.0])|[6.0,0.0,1.0]|\n",
      "|            6.1|           2.9|            4.7|           1.4|Iris-versicolor|            true|    1|             1.0|    (2,[1],[1.0])|[6.1,0.0,1.0]|\n",
      "|            5.6|           2.9|            3.6|           1.3|Iris-versicolor|           false|    0|             1.0|    (2,[1],[1.0])|[5.6,0.0,1.0]|\n",
      "|            6.7|           3.1|            4.4|           1.4|Iris-versicolor|            true|    1|             1.0|    (2,[1],[1.0])|[6.7,0.0,1.0]|\n",
      "|            5.6|           3.0|            4.5|           1.5|Iris-versicolor|           false|    0|             1.0|    (2,[1],[1.0])|[5.6,0.0,1.0]|\n",
      "|            5.8|           2.7|            4.1|           1.0|Iris-versicolor|           false|    0|             1.0|    (2,[1],[1.0])|[5.8,0.0,1.0]|\n",
      "|            6.2|           2.2|            4.5|           1.5|Iris-versicolor|            true|    1|             1.0|    (2,[1],[1.0])|[6.2,0.0,1.0]|\n",
      "|            5.6|           2.5|            3.9|           1.1|Iris-versicolor|           false|    0|             1.0|    (2,[1],[1.0])|[5.6,0.0,1.0]|\n",
      "|            5.9|           3.2|            4.8|           1.8|Iris-versicolor|           false|    0|             1.0|    (2,[1],[1.0])|[5.9,0.0,1.0]|\n",
      "|            6.1|           2.8|            4.0|           1.3|Iris-versicolor|            true|    1|             1.0|    (2,[1],[1.0])|[6.1,0.0,1.0]|\n",
      "|            6.3|           2.5|            4.9|           1.5|Iris-versicolor|            true|    1|             1.0|    (2,[1],[1.0])|[6.3,0.0,1.0]|\n",
      "|            6.1|           2.8|            4.7|           1.2|Iris-versicolor|            true|    1|             1.0|    (2,[1],[1.0])|[6.1,0.0,1.0]|\n",
      "|            6.4|           2.9|            4.3|           1.3|Iris-versicolor|            true|    1|             1.0|    (2,[1],[1.0])|[6.4,0.0,1.0]|\n",
      "|            6.6|           3.0|            4.4|           1.4|Iris-versicolor|            true|    1|             1.0|    (2,[1],[1.0])|[6.6,0.0,1.0]|\n",
      "|            6.8|           2.8|            4.8|           1.4|Iris-versicolor|            true|    1|             1.0|    (2,[1],[1.0])|[6.8,0.0,1.0]|\n",
      "|            6.7|           3.0|            5.0|           1.7|Iris-versicolor|            true|    1|             1.0|    (2,[1],[1.0])|[6.7,0.0,1.0]|\n",
      "|            6.0|           2.9|            4.5|           1.5|Iris-versicolor|           false|    0|             1.0|    (2,[1],[1.0])|[6.0,0.0,1.0]|\n",
      "|            5.7|           2.6|            3.5|           1.0|Iris-versicolor|           false|    0|             1.0|    (2,[1],[1.0])|[5.7,0.0,1.0]|\n",
      "|            5.5|           2.4|            3.8|           1.1|Iris-versicolor|           false|    0|             1.0|    (2,[1],[1.0])|[5.5,0.0,1.0]|\n",
      "|            5.5|           2.4|            3.7|           1.0|Iris-versicolor|           false|    0|             1.0|    (2,[1],[1.0])|[5.5,0.0,1.0]|\n",
      "|            5.8|           2.7|            3.9|           1.2|Iris-versicolor|           false|    0|             1.0|    (2,[1],[1.0])|[5.8,0.0,1.0]|\n",
      "|            6.0|           2.7|            5.1|           1.6|Iris-versicolor|           false|    0|             1.0|    (2,[1],[1.0])|[6.0,0.0,1.0]|\n",
      "|            5.4|           3.0|            4.5|           1.5|Iris-versicolor|           false|    0|             1.0|    (2,[1],[1.0])|[5.4,0.0,1.0]|\n",
      "|            6.0|           3.4|            4.5|           1.6|Iris-versicolor|           false|    0|             1.0|    (2,[1],[1.0])|[6.0,0.0,1.0]|\n",
      "|            6.7|           3.1|            4.7|           1.5|Iris-versicolor|            true|    1|             1.0|    (2,[1],[1.0])|[6.7,0.0,1.0]|\n",
      "|            6.3|           2.3|            4.4|           1.3|Iris-versicolor|            true|    1|             1.0|    (2,[1],[1.0])|[6.3,0.0,1.0]|\n",
      "|            5.6|           3.0|            4.1|           1.3|Iris-versicolor|           false|    0|             1.0|    (2,[1],[1.0])|[5.6,0.0,1.0]|\n",
      "|            5.5|           2.5|            4.0|           1.3|Iris-versicolor|           false|    0|             1.0|    (2,[1],[1.0])|[5.5,0.0,1.0]|\n",
      "|            5.5|           2.6|            4.4|           1.2|Iris-versicolor|           false|    0|             1.0|    (2,[1],[1.0])|[5.5,0.0,1.0]|\n",
      "|            6.1|           3.0|            4.6|           1.4|Iris-versicolor|            true|    1|             1.0|    (2,[1],[1.0])|[6.1,0.0,1.0]|\n",
      "|            5.8|           2.6|            4.0|           1.2|Iris-versicolor|           false|    0|             1.0|    (2,[1],[1.0])|[5.8,0.0,1.0]|\n",
      "|            5.0|           2.3|            3.3|           1.0|Iris-versicolor|           false|    0|             1.0|    (2,[1],[1.0])|[5.0,0.0,1.0]|\n",
      "|            5.6|           2.7|            4.2|           1.3|Iris-versicolor|           false|    0|             1.0|    (2,[1],[1.0])|[5.6,0.0,1.0]|\n",
      "|            5.7|           3.0|            4.2|           1.2|Iris-versicolor|           false|    0|             1.0|    (2,[1],[1.0])|[5.7,0.0,1.0]|\n",
      "|            5.7|           2.9|            4.2|           1.3|Iris-versicolor|           false|    0|             1.0|    (2,[1],[1.0])|[5.7,0.0,1.0]|\n",
      "|            6.2|           2.9|            4.3|           1.3|Iris-versicolor|            true|    1|             1.0|    (2,[1],[1.0])|[6.2,0.0,1.0]|\n",
      "|            5.1|           2.5|            3.0|           1.1|Iris-versicolor|           false|    0|             1.0|    (2,[1],[1.0])|[5.1,0.0,1.0]|\n",
      "|            5.7|           2.8|            4.1|           1.3|Iris-versicolor|           false|    0|             1.0|    (2,[1],[1.0])|[5.7,0.0,1.0]|\n",
      "|            6.3|           3.3|            6.0|           2.5| Iris-virginica|            true|    1|             2.0|        (2,[],[])|[6.3,0.0,0.0]|\n",
      "|            5.8|           2.7|            5.1|           1.9| Iris-virginica|           false|    0|             2.0|        (2,[],[])|[5.8,0.0,0.0]|\n",
      "|            7.1|           3.0|            5.9|           2.1| Iris-virginica|            true|    1|             2.0|        (2,[],[])|[7.1,0.0,0.0]|\n",
      "|            6.3|           2.9|            5.6|           1.8| Iris-virginica|            true|    1|             2.0|        (2,[],[])|[6.3,0.0,0.0]|\n",
      "|            6.5|           3.0|            5.8|           2.2| Iris-virginica|            true|    1|             2.0|        (2,[],[])|[6.5,0.0,0.0]|\n",
      "|            7.6|           3.0|            6.6|           2.1| Iris-virginica|            true|    1|             2.0|        (2,[],[])|[7.6,0.0,0.0]|\n",
      "|            4.9|           2.5|            4.5|           1.7| Iris-virginica|           false|    0|             2.0|        (2,[],[])|[4.9,0.0,0.0]|\n",
      "|            7.3|           2.9|            6.3|           1.8| Iris-virginica|            true|    1|             2.0|        (2,[],[])|[7.3,0.0,0.0]|\n",
      "|            6.7|           2.5|            5.8|           1.8| Iris-virginica|            true|    1|             2.0|        (2,[],[])|[6.7,0.0,0.0]|\n",
      "|            7.2|           3.6|            6.1|           2.5| Iris-virginica|            true|    1|             2.0|        (2,[],[])|[7.2,0.0,0.0]|\n",
      "|            6.5|           3.2|            5.1|           2.0| Iris-virginica|            true|    1|             2.0|        (2,[],[])|[6.5,0.0,0.0]|\n",
      "|            6.4|           2.7|            5.3|           1.9| Iris-virginica|            true|    1|             2.0|        (2,[],[])|[6.4,0.0,0.0]|\n",
      "|            6.8|           3.0|            5.5|           2.1| Iris-virginica|            true|    1|             2.0|        (2,[],[])|[6.8,0.0,0.0]|\n",
      "|            5.7|           2.5|            5.0|           2.0| Iris-virginica|           false|    0|             2.0|        (2,[],[])|[5.7,0.0,0.0]|\n",
      "|            5.8|           2.8|            5.1|           2.4| Iris-virginica|           false|    0|             2.0|        (2,[],[])|[5.8,0.0,0.0]|\n",
      "|            6.4|           3.2|            5.3|           2.3| Iris-virginica|            true|    1|             2.0|        (2,[],[])|[6.4,0.0,0.0]|\n",
      "|            6.5|           3.0|            5.5|           1.8| Iris-virginica|            true|    1|             2.0|        (2,[],[])|[6.5,0.0,0.0]|\n",
      "|            7.7|           3.8|            6.7|           2.2| Iris-virginica|            true|    1|             2.0|        (2,[],[])|[7.7,0.0,0.0]|\n",
      "|            7.7|           2.6|            6.9|           2.3| Iris-virginica|            true|    1|             2.0|        (2,[],[])|[7.7,0.0,0.0]|\n",
      "|            6.0|           2.2|            5.0|           1.5| Iris-virginica|           false|    0|             2.0|        (2,[],[])|[6.0,0.0,0.0]|\n",
      "|            6.9|           3.2|            5.7|           2.3| Iris-virginica|            true|    1|             2.0|        (2,[],[])|[6.9,0.0,0.0]|\n",
      "|            5.6|           2.8|            4.9|           2.0| Iris-virginica|           false|    0|             2.0|        (2,[],[])|[5.6,0.0,0.0]|\n",
      "|            7.7|           2.8|            6.7|           2.0| Iris-virginica|            true|    1|             2.0|        (2,[],[])|[7.7,0.0,0.0]|\n",
      "|            6.3|           2.7|            4.9|           1.8| Iris-virginica|            true|    1|             2.0|        (2,[],[])|[6.3,0.0,0.0]|\n",
      "|            6.7|           3.3|            5.7|           2.1| Iris-virginica|            true|    1|             2.0|        (2,[],[])|[6.7,0.0,0.0]|\n",
      "|            7.2|           3.2|            6.0|           1.8| Iris-virginica|            true|    1|             2.0|        (2,[],[])|[7.2,0.0,0.0]|\n",
      "|            6.2|           2.8|            4.8|           1.8| Iris-virginica|            true|    1|             2.0|        (2,[],[])|[6.2,0.0,0.0]|\n",
      "|            6.1|           3.0|            4.9|           1.8| Iris-virginica|            true|    1|             2.0|        (2,[],[])|[6.1,0.0,0.0]|\n",
      "|            6.4|           2.8|            5.6|           2.1| Iris-virginica|            true|    1|             2.0|        (2,[],[])|[6.4,0.0,0.0]|\n",
      "|            7.2|           3.0|            5.8|           1.6| Iris-virginica|            true|    1|             2.0|        (2,[],[])|[7.2,0.0,0.0]|\n",
      "|            7.4|           2.8|            6.1|           1.9| Iris-virginica|            true|    1|             2.0|        (2,[],[])|[7.4,0.0,0.0]|\n",
      "|            7.9|           3.8|            6.4|           2.0| Iris-virginica|            true|    1|             2.0|        (2,[],[])|[7.9,0.0,0.0]|\n",
      "|            6.4|           2.8|            5.6|           2.2| Iris-virginica|            true|    1|             2.0|        (2,[],[])|[6.4,0.0,0.0]|\n",
      "|            6.3|           2.8|            5.1|           1.5| Iris-virginica|            true|    1|             2.0|        (2,[],[])|[6.3,0.0,0.0]|\n",
      "|            6.1|           2.6|            5.6|           1.4| Iris-virginica|            true|    1|             2.0|        (2,[],[])|[6.1,0.0,0.0]|\n",
      "|            7.7|           3.0|            6.1|           2.3| Iris-virginica|            true|    1|             2.0|        (2,[],[])|[7.7,0.0,0.0]|\n",
      "|            6.3|           3.4|            5.6|           2.4| Iris-virginica|            true|    1|             2.0|        (2,[],[])|[6.3,0.0,0.0]|\n",
      "|            6.4|           3.1|            5.5|           1.8| Iris-virginica|            true|    1|             2.0|        (2,[],[])|[6.4,0.0,0.0]|\n",
      "|            6.0|           3.0|            4.8|           1.8| Iris-virginica|           false|    0|             2.0|        (2,[],[])|[6.0,0.0,0.0]|\n",
      "|            6.9|           3.1|            5.4|           2.1| Iris-virginica|            true|    1|             2.0|        (2,[],[])|[6.9,0.0,0.0]|\n",
      "|            6.7|           3.1|            5.6|           2.4| Iris-virginica|            true|    1|             2.0|        (2,[],[])|[6.7,0.0,0.0]|\n",
      "|            6.9|           3.1|            5.1|           2.3| Iris-virginica|            true|    1|             2.0|        (2,[],[])|[6.9,0.0,0.0]|\n",
      "|            5.8|           2.7|            5.1|           1.9| Iris-virginica|           false|    0|             2.0|        (2,[],[])|[5.8,0.0,0.0]|\n",
      "|            6.8|           3.2|            5.9|           2.3| Iris-virginica|            true|    1|             2.0|        (2,[],[])|[6.8,0.0,0.0]|\n",
      "|            6.7|           3.3|            5.7|           2.5| Iris-virginica|            true|    1|             2.0|        (2,[],[])|[6.7,0.0,0.0]|\n",
      "|            6.7|           3.0|            5.2|           2.3| Iris-virginica|            true|    1|             2.0|        (2,[],[])|[6.7,0.0,0.0]|\n",
      "|            6.3|           2.5|            5.0|           1.9| Iris-virginica|            true|    1|             2.0|        (2,[],[])|[6.3,0.0,0.0]|\n",
      "|            6.5|           3.0|            5.2|           2.0| Iris-virginica|            true|    1|             2.0|        (2,[],[])|[6.5,0.0,0.0]|\n",
      "|            6.2|           3.4|            5.4|           2.3| Iris-virginica|            true|    1|             2.0|        (2,[],[])|[6.2,0.0,0.0]|\n",
      "|            5.9|           3.0|            5.1|           1.8| Iris-virginica|           false|    0|             2.0|        (2,[],[])|[5.9,0.0,0.0]|\n",
      "+---------------+--------------+---------------+--------------+---------------+----------------+-----+----------------+-----------------+-------------+\n",
      "\n"
     ]
    }
   ],
   "source": [
    "iris_piped_data.show(150)"
   ]
  },
  {
   "cell_type": "markdown",
   "metadata": {},
   "source": [
    "## Testing and Training Data"
   ]
  },
  {
   "cell_type": "markdown",
   "metadata": {},
   "source": [
    "Only after we indexed all data and created a feature column we can split data in train and test sets using `randomSplit()` method. The method accepts list of 2 numbers - fraction of traning data and fraction of testing data, for example to divide 80% to 20% we use the following:"
   ]
  },
  {
   "cell_type": "code",
   "execution_count": 21,
   "metadata": {},
   "outputs": [],
   "source": [
    "train, test = iris_piped_data.randomSplit([.8, .2], seed = 1)"
   ]
  },
  {
   "cell_type": "markdown",
   "metadata": {},
   "source": [
    "Note, parameter `seed` allows to reproduce the same splitting. Change or omit this parameter for random splitting."
   ]
  },
  {
   "cell_type": "code",
   "execution_count": 22,
   "metadata": {},
   "outputs": [
    {
     "name": "stdout",
     "output_type": "stream",
     "text": [
      "+-----+\n",
      "|count|\n",
      "+-----+\n",
      "|  118|\n",
      "+-----+\n",
      "\n"
     ]
    }
   ],
   "source": [
    "train.groupBy().count().show()"
   ]
  },
  {
   "cell_type": "code",
   "execution_count": 23,
   "metadata": {},
   "outputs": [
    {
     "name": "stdout",
     "output_type": "stream",
     "text": [
      "+-----+\n",
      "|count|\n",
      "+-----+\n",
      "|   32|\n",
      "+-----+\n",
      "\n"
     ]
    }
   ],
   "source": [
    "test.groupBy().count().show()"
   ]
  },
  {
   "cell_type": "markdown",
   "metadata": {},
   "source": [
    "## Model Building"
   ]
  },
  {
   "cell_type": "markdown",
   "metadata": {},
   "source": [
    "### Logistic Regression"
   ]
  },
  {
   "cell_type": "markdown",
   "metadata": {},
   "source": [
    "Create a `LogisticRegression` estimator:"
   ]
  },
  {
   "cell_type": "code",
   "execution_count": 24,
   "metadata": {},
   "outputs": [],
   "source": [
    "lr = LogisticRegression()"
   ]
  },
  {
   "cell_type": "markdown",
   "metadata": {},
   "source": [
    "Create a `BinaryClassificationEvaluator`:"
   ]
  },
  {
   "cell_type": "code",
   "execution_count": 25,
   "metadata": {},
   "outputs": [],
   "source": [
    "ev = evals.BinaryClassificationEvaluator(metricName=\"areaUnderROC\")"
   ]
  },
  {
   "cell_type": "markdown",
   "metadata": {},
   "source": [
    "Create the parameter grid:"
   ]
  },
  {
   "cell_type": "code",
   "execution_count": 26,
   "metadata": {},
   "outputs": [],
   "source": [
    "grid = tune.ParamGridBuilder()"
   ]
  },
  {
   "cell_type": "markdown",
   "metadata": {},
   "source": [
    "Add hyperparameters to the grid:"
   ]
  },
  {
   "cell_type": "code",
   "execution_count": 27,
   "metadata": {},
   "outputs": [],
   "source": [
    "grid = grid.addGrid(lr.regParam, np.arange(0, .1, .01))\n",
    "grid = grid.addGrid(lr.elasticNetParam, [0, 1])"
   ]
  },
  {
   "cell_type": "markdown",
   "metadata": {},
   "source": [
    "Build the grid"
   ]
  },
  {
   "cell_type": "code",
   "execution_count": 28,
   "metadata": {},
   "outputs": [],
   "source": [
    "grid = grid.build()"
   ]
  },
  {
   "cell_type": "markdown",
   "metadata": {},
   "source": [
    "Create the `CrossValidator`:"
   ]
  },
  {
   "cell_type": "code",
   "execution_count": 29,
   "metadata": {},
   "outputs": [],
   "source": [
    "cv = tune.CrossValidator(estimator=lr,\n",
    "               estimatorParamMaps=grid,\n",
    "               evaluator=ev\n",
    "               )"
   ]
  },
  {
   "cell_type": "markdown",
   "metadata": {},
   "source": [
    "Fit logistic regression models using cross validation:"
   ]
  },
  {
   "cell_type": "code",
   "execution_count": 30,
   "metadata": {},
   "outputs": [],
   "source": [
    "%%time\n",
    "models = cv.fit(train)"
   ]
  },
  {
   "cell_type": "markdown",
   "metadata": {},
   "source": [
    "Extract the best model:"
   ]
  },
  {
   "cell_type": "code",
   "execution_count": 31,
   "metadata": {},
   "outputs": [],
   "source": [
    "best_lr = models.bestModel"
   ]
  },
  {
   "cell_type": "code",
   "execution_count": 32,
   "metadata": {},
   "outputs": [
    {
     "name": "stdout",
     "output_type": "stream",
     "text": [
      "LogisticRegressionModel: uid = LogisticRegression_083748035d8e, numClasses = 2, numFeatures = 3\n"
     ]
    }
   ],
   "source": [
    "print(best_lr)"
   ]
  },
  {
   "cell_type": "markdown",
   "metadata": {},
   "source": [
    "Use the model to predict the test set:"
   ]
  },
  {
   "cell_type": "code",
   "execution_count": 33,
   "metadata": {},
   "outputs": [],
   "source": [
    "test_results = best_lr.transform(test)"
   ]
  },
  {
   "cell_type": "markdown",
   "metadata": {},
   "source": [
    "Evaluate the predictions calculating the `AUC` (areaUnderROC), remember we set this up above `evals.BinaryClassificationEvaluator(metricName=\"areaUnderROC\")`:"
   ]
  },
  {
   "cell_type": "code",
   "execution_count": 36,
   "metadata": {},
   "outputs": [
    {
     "name": "stdout",
     "output_type": "stream",
     "text": [
      "1.0\n"
     ]
    }
   ],
   "source": [
    "print(ev.evaluate(test_results))"
   ]
  },
  {
   "cell_type": "markdown",
   "metadata": {},
   "source": [
    "Note, result is perfect (the closer the AUC is to 1, the better the model is) because in this example we used `sepal_length_cm` to create `label` column and then we used the same column in `features`."
   ]
  },
  {
   "cell_type": "code",
   "execution_count": null,
   "metadata": {},
   "outputs": [],
   "source": []
  }
 ],
 "metadata": {
  "kernelspec": {
   "display_name": "Python 3",
   "language": "python",
   "name": "python3"
  },
  "language_info": {
   "codemirror_mode": {
    "name": "ipython",
    "version": 3
   },
   "file_extension": ".py",
   "mimetype": "text/x-python",
   "name": "python",
   "nbconvert_exporter": "python",
   "pygments_lexer": "ipython3",
   "version": "3.6.8"
  }
 },
 "nbformat": 4,
 "nbformat_minor": 4
}
